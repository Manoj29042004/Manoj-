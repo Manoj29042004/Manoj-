{
 "cells": [
  {
   "cell_type": "code",
   "execution_count": 1,
   "id": "7eba986a",
   "metadata": {},
   "outputs": [],
   "source": [
    "student_Database={}"
   ]
  },
  {
   "cell_type": "code",
   "execution_count": 2,
   "id": "d1d77672",
   "metadata": {},
   "outputs": [
    {
     "name": "stdout",
     "output_type": "stream",
     "text": [
      "Adding New student to database of students\n",
      "Enter the student Name(Enter nothing to exit):Jithendra\n",
      "Enter the ID of the student:  218T1A04B0\n",
      "Enter the Graduation Year:  2\n",
      "Enter the  Graduation Degree of student:  ECE\n",
      "----------------------------------------------------------------------------------------------------\n",
      "*list of students*\n",
      "~~~~~~~~~~~~~~~~~~~~~~~~~~~~~~\n",
      "218T1A04B0 : {'name': 'Jithendra', 'Graduation Year': '2', 'Graduation Degree': 'ECE', 'Attendance': {}}\n",
      "Enter the student Name(Enter nothing to exit):Manoj\n",
      "Enter the ID of the student:  218T1A04B1\n",
      "Enter the Graduation Year:  2\n",
      "Enter the  Graduation Degree of student:  ECE\n",
      "----------------------------------------------------------------------------------------------------\n",
      "*list of students*\n",
      "~~~~~~~~~~~~~~~~~~~~~~~~~~~~~~\n",
      "218T1A04B0 : {'name': 'Jithendra', 'Graduation Year': '2', 'Graduation Degree': 'ECE', 'Attendance': {}}\n",
      "218T1A04B1 : {'name': 'Manoj', 'Graduation Year': '2', 'Graduation Degree': 'ECE', 'Attendance': {}}\n",
      "Enter the student Name(Enter nothing to exit):Sai\n",
      "Enter the ID of the student:  218T1A04B7\n",
      "Enter the Graduation Year:  2\n",
      "Enter the  Graduation Degree of student:  ECE\n",
      "----------------------------------------------------------------------------------------------------\n",
      "*list of students*\n",
      "~~~~~~~~~~~~~~~~~~~~~~~~~~~~~~\n",
      "218T1A04B0 : {'name': 'Jithendra', 'Graduation Year': '2', 'Graduation Degree': 'ECE', 'Attendance': {}}\n",
      "218T1A04B1 : {'name': 'Manoj', 'Graduation Year': '2', 'Graduation Degree': 'ECE', 'Attendance': {}}\n",
      "218T1A04B7 : {'name': 'Sai', 'Graduation Year': '2', 'Graduation Degree': 'ECE', 'Attendance': {}}\n",
      "Enter the student Name(Enter nothing to exit):\n",
      "Exited\n"
     ]
    }
   ],
   "source": [
    "def adding_student():\n",
    "    print(\"Adding New student to database of students\")\n",
    "    while True:\n",
    "        student_name=input(\"Enter the student Name(Enter nothing to exit):\")\n",
    "        if(student_name==\"\"):\n",
    "            print(\"Exited\")\n",
    "            break\n",
    "        else: \n",
    "            student_id=input(\"Enter the ID of the student:  \")\n",
    "            graduation_year=input(\"Enter the Graduation Year:  \")\n",
    "            graduation_degree=input(\"Enter the  Graduation Degree of student:  \")\n",
    "            student_Database[student_id] = {'name': student_name,'Graduation Year':graduation_year,'Graduation Degree':graduation_degree,'Attendance':{}}\n",
    "            print(\"-\"*100)       \n",
    "            print(\"*list of students*\")\n",
    "            print(\"~\"*30)\n",
    "            for i in  student_Database.keys():\n",
    "                print(i,\":\",student_Database[i]) \n",
    "if __name__ == '__main__':\n",
    "    adding_student()"
   ]
  },
  {
   "cell_type": "code",
   "execution_count": 3,
   "id": "75c0353a",
   "metadata": {},
   "outputs": [
    {
     "data": {
      "text/plain": [
       "{'218T1A04B0': {'name': 'Jithendra',\n",
       "  'Graduation Year': '2',\n",
       "  'Graduation Degree': 'ECE',\n",
       "  'Attendance': {}},\n",
       " '218T1A04B1': {'name': 'Manoj',\n",
       "  'Graduation Year': '2',\n",
       "  'Graduation Degree': 'ECE',\n",
       "  'Attendance': {}},\n",
       " '218T1A04B7': {'name': 'Sai',\n",
       "  'Graduation Year': '2',\n",
       "  'Graduation Degree': 'ECE',\n",
       "  'Attendance': {}}}"
      ]
     },
     "execution_count": 3,
     "metadata": {},
     "output_type": "execute_result"
    }
   ],
   "source": [
    "student_Database"
   ]
  },
  {
   "cell_type": "code",
   "execution_count": 11,
   "id": "a07fba34",
   "metadata": {},
   "outputs": [
    {
     "name": "stdout",
     "output_type": "stream",
     "text": [
      "Enter your student ID: 218t1a04b0\n",
      "Enter your student ID: 218T1A04B1\n",
      "Enter your student ID: 218T1A04B7\n",
      "Enter your student ID: \n"
     ]
    }
   ],
   "source": [
    "def attendance_mark():\n",
    "    import datetime\n",
    "    while True:\n",
    "        student_id = input(\"Enter your student ID: \")\n",
    "        if(student_id==''):\n",
    "            break\n",
    "        else:\n",
    "            for i in student_Database.keys():\n",
    "                if(i.lower()==student_id.lower()):\n",
    "                    date_time = datetime.datetime.now()\n",
    "                    x=str(date_time).split(' ')\n",
    "                    if(len(student_Database[i]['Attendance'].values())  in range(0,1000,2)):\n",
    "                        date=('log in time on',str(x[0]))\n",
    "                        student_Database[i]['Attendance'].update({date:x[1]})\n",
    "                    else:\n",
    "                        date=('log out time on',str(x[0]))\n",
    "                        student_Database[i]['Attendance'].update({date:x[1]})\n",
    "if __name__ == '__main__':\n",
    "    attendance_mark()\n"
   ]
  },
  {
   "cell_type": "code",
   "execution_count": 12,
   "id": "e8d8c352",
   "metadata": {},
   "outputs": [
    {
     "data": {
      "text/plain": [
       "{'218T1A04B0': {'name': 'Jithendra',\n",
       "  'Graduation Year': '2',\n",
       "  'Graduation Degree': 'ECE',\n",
       "  'Attendance': {('log in time on', '2023-04-07'): '10:56:53.780933',\n",
       "   ('log out time on', '2023-04-07'): '10:51:14.508585'}},\n",
       " '218T1A04B1': {'name': 'Manoj',\n",
       "  'Graduation Year': '2',\n",
       "  'Graduation Degree': 'ECE',\n",
       "  'Attendance': {('log in time on', '2023-04-07'): '10:57:19.496003',\n",
       "   ('log out time on', '2023-04-07'): '10:51:19.809858'}},\n",
       " '218T1A04B7': {'name': 'Sai',\n",
       "  'Graduation Year': '2',\n",
       "  'Graduation Degree': 'ECE',\n",
       "  'Attendance': {('log in time on', '2023-04-07'): '10:51:24.160481',\n",
       "   ('log out time on', '2023-04-07'): '10:57:25.041129'}}}"
      ]
     },
     "execution_count": 12,
     "metadata": {},
     "output_type": "execute_result"
    }
   ],
   "source": [
    "student_Database"
   ]
  },
  {
   "cell_type": "code",
   "execution_count": null,
   "id": "e8faaba8",
   "metadata": {},
   "outputs": [],
   "source": []
  }
 ],
 "metadata": {
  "kernelspec": {
   "display_name": "Python 3 (ipykernel)",
   "language": "python",
   "name": "python3"
  },
  "language_info": {
   "codemirror_mode": {
    "name": "ipython",
    "version": 3
   },
   "file_extension": ".py",
   "mimetype": "text/x-python",
   "name": "python",
   "nbconvert_exporter": "python",
   "pygments_lexer": "ipython3",
   "version": "3.9.13"
  }
 },
 "nbformat": 4,
 "nbformat_minor": 5
}
