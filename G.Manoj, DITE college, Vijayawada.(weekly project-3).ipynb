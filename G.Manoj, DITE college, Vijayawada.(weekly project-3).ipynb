{
 "cells": [
  {
   "cell_type": "markdown",
   "id": "fc8f8aca",
   "metadata": {},
   "source": [
    "## creating 100 files in a folder named from \"Ashish 1\" to \"Ashish 100\".\n"
   ]
  },
  {
   "cell_type": "code",
   "execution_count": 2,
   "id": "0f8bbb15",
   "metadata": {},
   "outputs": [],
   "source": [
    "for i in range(1,101):\n",
    "    name=\"Ashish \"+str(i)+\".txt\"\n",
    "    fd=open(name,'w')\n",
    "    fd.write('file_'+str(i)+'of Ashish sir')\n",
    "    fd.close()"
   ]
  },
  {
   "cell_type": "code",
   "execution_count": null,
   "id": "710d06bf",
   "metadata": {},
   "outputs": [],
   "source": []
  }
 ],
 "metadata": {
  "kernelspec": {
   "display_name": "Python 3 (ipykernel)",
   "language": "python",
   "name": "python3"
  },
  "language_info": {
   "codemirror_mode": {
    "name": "ipython",
    "version": 3
   },
   "file_extension": ".py",
   "mimetype": "text/x-python",
   "name": "python",
   "nbconvert_exporter": "python",
   "pygments_lexer": "ipython3",
   "version": "3.9.13"
  }
 },
 "nbformat": 4,
 "nbformat_minor": 5
}
