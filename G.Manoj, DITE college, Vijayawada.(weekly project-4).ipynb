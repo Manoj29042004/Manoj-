{
 "cells": [
  {
   "cell_type": "markdown",
   "id": "478f8356",
   "metadata": {},
   "source": [
    "##  Program for encryption of the files by reversing and shifting the text by 3 places."
   ]
  },
  {
   "cell_type": "code",
   "execution_count": 1,
   "id": "9e05ce9c",
   "metadata": {},
   "outputs": [],
   "source": [
    "fd = open('file.txt','w')\n",
    "fd.write('manoj')\n",
    "fd.close()"
   ]
  },
  {
   "cell_type": "code",
   "execution_count": 2,
   "id": "8ec1001c",
   "metadata": {},
   "outputs": [
    {
     "name": "stdout",
     "output_type": "stream",
     "text": [
      "manoj\n"
     ]
    }
   ],
   "source": [
    "fd = open('file.txt','r')\n",
    "text=fd.read()\n",
    "fd.close()\n",
    "print(text)"
   ]
  },
  {
   "cell_type": "code",
   "execution_count": 4,
   "id": "6f237472",
   "metadata": {},
   "outputs": [],
   "source": [
    "def encrypt_file(filename):\n",
    "    fd = open(filename,'r')\n",
    "    text= fd.read()\n",
    "    fd.close()\n",
    "    t=''\n",
    "    rev_txt=text[::-1]\n",
    "    for i in rev_txt:\n",
    "        t += chr(ord(i)+3)\n",
    "    fd = open(filename,'w')\n",
    "    fd.write(t)\n",
    "    fd.close()\n",
    "    \n",
    " \n",
    " "
   ]
  },
  {
   "cell_type": "code",
   "execution_count": 5,
   "id": "c8f4f64a",
   "metadata": {},
   "outputs": [],
   "source": [
    "encrypt_file('file.txt')"
   ]
  },
  {
   "cell_type": "code",
   "execution_count": 6,
   "id": "3eb50b57",
   "metadata": {},
   "outputs": [
    {
     "name": "stdout",
     "output_type": "stream",
     "text": [
      "mrqdp\n"
     ]
    }
   ],
   "source": [
    "fd = open('file.txt','r')\n",
    "text=fd.read()\n",
    "fd.close()\n",
    "print(text)"
   ]
  },
  {
   "cell_type": "code",
   "execution_count": 7,
   "id": "281c9669",
   "metadata": {},
   "outputs": [],
   "source": [
    "def decrypt_file(filename):\n",
    "    fd = open(filename,'r')\n",
    "    text= fd.read()\n",
    "    fd.close()\n",
    "    t=''\n",
    "    rev_txt=text[::-1]\n",
    "    for i in rev_txt:\n",
    "        t += chr(ord(i)-3)\n",
    "    fd = open(filename,'w')\n",
    "    fd.write(t)\n",
    "    fd.close()\n",
    "    \n",
    " \n",
    " \n",
    " \n",
    "    "
   ]
  },
  {
   "cell_type": "code",
   "execution_count": 8,
   "id": "0a56add1",
   "metadata": {},
   "outputs": [],
   "source": [
    "decrypt_file('file.txt')"
   ]
  },
  {
   "cell_type": "code",
   "execution_count": 9,
   "id": "d4ebf903",
   "metadata": {},
   "outputs": [
    {
     "name": "stdout",
     "output_type": "stream",
     "text": [
      "manoj\n"
     ]
    }
   ],
   "source": [
    "fd = open('file.txt','r')\n",
    "text=fd.read()\n",
    "fd.close()\n",
    "print(text)"
   ]
  },
  {
   "cell_type": "code",
   "execution_count": null,
   "id": "29dbf3ce",
   "metadata": {},
   "outputs": [],
   "source": []
  }
 ],
 "metadata": {
  "kernelspec": {
   "display_name": "Python 3 (ipykernel)",
   "language": "python",
   "name": "python3"
  },
  "language_info": {
   "codemirror_mode": {
    "name": "ipython",
    "version": 3
   },
   "file_extension": ".py",
   "mimetype": "text/x-python",
   "name": "python",
   "nbconvert_exporter": "python",
   "pygments_lexer": "ipython3",
   "version": "3.9.13"
  }
 },
 "nbformat": 4,
 "nbformat_minor": 5
}
