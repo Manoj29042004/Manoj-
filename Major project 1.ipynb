{
 "cells": [
  {
   "cell_type": "markdown",
   "id": "26c003ad",
   "metadata": {},
   "source": [
    "## Inventory Management"
   ]
  },
  {
   "cell_type": "code",
   "execution_count": 7,
   "id": "50c24197",
   "metadata": {},
   "outputs": [],
   "source": [
    "inventory={}"
   ]
  },
  {
   "cell_type": "code",
   "execution_count": 8,
   "id": "0c0fab42",
   "metadata": {},
   "outputs": [
    {
     "name": "stdout",
     "output_type": "stream",
     "text": [
      "__________________________________________________\n",
      "1. Show Product Details\n",
      "2. Add New Product\n",
      "3. delete any product from inventory\n",
      "4. Exit\n",
      "Enter your choice: 2\n",
      "__________________________________________________\n",
      "Adding New Product\n",
      "Enter the product id(Enter nothing to exit):1\n",
      "Enter the name of the product:  rice\n",
      "Enter product price (in ruppes): 50\n",
      "Inventory: {'1': {'name': 'rice', 'price': 50.0}}\n",
      "----------------------------------------------------------------------------------------------------\n",
      "Enter the product id(Enter nothing to exit):2\n",
      "Enter the name of the product:  sugar\n",
      "Enter product price (in ruppes): 45\n",
      "Inventory: {'1': {'name': 'rice', 'price': 50.0}, '2': {'name': 'sugar', 'price': 45.0}}\n",
      "----------------------------------------------------------------------------------------------------\n",
      "Enter the product id(Enter nothing to exit):\n",
      "*list of products*\n",
      "~~~~~~~~~~~~~~~~~~~~~~~~~~~~~~\n",
      "1 : {'name': 'rice', 'price': 50.0}\n",
      "2 : {'name': 'sugar', 'price': 45.0}\n",
      "__________________________________________________\n",
      "1. Show Product Details\n",
      "2. Add New Product\n",
      "3. delete any product from inventory\n",
      "4. Exit\n",
      "Enter your choice: 4\n",
      "__________________________________________________\n"
     ]
    }
   ],
   "source": [
    "def enter_new():\n",
    "    print(\"Adding New Product\")\n",
    "    while True:\n",
    "        product_id=input(\"Enter the product id(Enter nothing to exit):\")\n",
    "        if(product_id==\"\"):\n",
    "            break\n",
    "        else:\n",
    "            product_name=input(\"Enter the name of the product:  \")\n",
    "            price= float(input(\"Enter product price (in ruppes): \"))\n",
    "            inventory[product_id] = {'name': product_name, 'price':price }\n",
    "            print(\"Inventory:\", inventory)\n",
    "            print(\"-\"*100)\n",
    "    print(\"*list of products*\")\n",
    "    print(\"~\"*30)\n",
    "    for i in   inventory.keys():\n",
    "        print(i,\":\",inventory[i])\n",
    "def show_details():\n",
    "    print( \"Showing Product Details\")\n",
    "    print(\"*No result will be shown on entering invalid id*\")\n",
    "    while True:\n",
    "        id=input(\"Enter the product id(Enter nothing to exit):\")\n",
    "        for i in   inventory.keys():\n",
    "            if(i==id):\n",
    "                x=inventory[id]\n",
    "                print(id,\":\",x)\n",
    "            elif(i!=id):\n",
    "                continue      \n",
    "        if(id==\"\"):\n",
    "            break        \n",
    "def delet_details():\n",
    "    while True:\n",
    "        print( \"deleting  product from inventory\")\n",
    "        id=input(\"Enter the product id(Enter nothing to exit):\") \n",
    "        for i in   inventory.keys():\n",
    "            if(i==id):\n",
    "                del inventory[id]\n",
    "            elif(i!=id):\n",
    "                continue\n",
    "        if(id==\"\"):\n",
    "            break\n",
    "    print(\"*list of products*\")\n",
    "    print(\"~\"*30)\n",
    "    for i in   inventory.keys():\n",
    "        print(i,\":\",inventory[i])\n",
    "def main():\n",
    "    while True:\n",
    "        print(\"_\"*50)\n",
    "        print(\"1. Show Product Details\")\n",
    "        print(\"2. Add New Product\")\n",
    "        print(\"3. delete any product from inventory\")\n",
    "        print(\"4. Exit\")\n",
    "        choice = input(\"Enter your choice: \")\n",
    "        print(\"_\"*50)\n",
    "        if choice == \"1\":\n",
    "            show_details()\n",
    "        elif choice == \"2\":\n",
    "            enter_new()\n",
    "        elif choice == \"3\":\n",
    "            delet_details()\n",
    "        elif choice == \"4\":\n",
    "            break\n",
    "        else:\n",
    "            print(\"Invalid choice! Please try again.\")        \n",
    "if __name__ == '__main__':\n",
    "    main()\n",
    "\n"
   ]
  },
  {
   "cell_type": "code",
   "execution_count": null,
   "id": "678d2cab",
   "metadata": {},
   "outputs": [],
   "source": []
  },
  {
   "cell_type": "code",
   "execution_count": null,
   "id": "2ff813b3",
   "metadata": {},
   "outputs": [],
   "source": []
  }
 ],
 "metadata": {
  "kernelspec": {
   "display_name": "Python 3 (ipykernel)",
   "language": "python",
   "name": "python3"
  },
  "language_info": {
   "codemirror_mode": {
    "name": "ipython",
    "version": 3
   },
   "file_extension": ".py",
   "mimetype": "text/x-python",
   "name": "python",
   "nbconvert_exporter": "python",
   "pygments_lexer": "ipython3",
   "version": "3.9.13"
  }
 },
 "nbformat": 4,
 "nbformat_minor": 5
}
