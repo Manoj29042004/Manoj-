{
 "cells": [
  {
   "cell_type": "code",
   "execution_count": 2,
   "id": "269fd260",
   "metadata": {},
   "outputs": [],
   "source": [
    "import pandas as pd\n",
    "import numpy as np"
   ]
  },
  {
   "cell_type": "code",
   "execution_count": 3,
   "id": "f1e793bc",
   "metadata": {},
   "outputs": [],
   "source": [
    "df = pd.read_csv(\"https://raw.githubusercontent.com/AshishJangra27/Data-Science-Specialization/main/Week%20-%208/Projects/country_vaccinations.csv\")\n"
   ]
  },
  {
   "cell_type": "code",
   "execution_count": 4,
   "id": "4f7db573",
   "metadata": {},
   "outputs": [
    {
     "data": {
      "text/html": [
       "<div>\n",
       "<style scoped>\n",
       "    .dataframe tbody tr th:only-of-type {\n",
       "        vertical-align: middle;\n",
       "    }\n",
       "\n",
       "    .dataframe tbody tr th {\n",
       "        vertical-align: top;\n",
       "    }\n",
       "\n",
       "    .dataframe thead th {\n",
       "        text-align: right;\n",
       "    }\n",
       "</style>\n",
       "<table border=\"1\" class=\"dataframe\">\n",
       "  <thead>\n",
       "    <tr style=\"text-align: right;\">\n",
       "      <th></th>\n",
       "      <th>country</th>\n",
       "      <th>iso_code</th>\n",
       "      <th>date</th>\n",
       "      <th>total_vaccinations</th>\n",
       "      <th>people_vaccinated</th>\n",
       "      <th>people_fully_vaccinated</th>\n",
       "      <th>daily_vaccinations_raw</th>\n",
       "      <th>daily_vaccinations</th>\n",
       "      <th>total_vaccinations_per_hundred</th>\n",
       "      <th>people_vaccinated_per_hundred</th>\n",
       "      <th>people_fully_vaccinated_per_hundred</th>\n",
       "      <th>daily_vaccinations_per_million</th>\n",
       "      <th>vaccines</th>\n",
       "      <th>source_name</th>\n",
       "      <th>source_website</th>\n",
       "    </tr>\n",
       "  </thead>\n",
       "  <tbody>\n",
       "    <tr>\n",
       "      <th>0</th>\n",
       "      <td>Afghanistan</td>\n",
       "      <td>AFG</td>\n",
       "      <td>2021-02-22</td>\n",
       "      <td>0.0</td>\n",
       "      <td>0.0</td>\n",
       "      <td>NaN</td>\n",
       "      <td>NaN</td>\n",
       "      <td>NaN</td>\n",
       "      <td>0.00</td>\n",
       "      <td>0.00</td>\n",
       "      <td>NaN</td>\n",
       "      <td>NaN</td>\n",
       "      <td>Johnson&amp;Johnson, Oxford/AstraZeneca, Pfizer/Bi...</td>\n",
       "      <td>World Health Organization</td>\n",
       "      <td>https://covid19.who.int/</td>\n",
       "    </tr>\n",
       "    <tr>\n",
       "      <th>1</th>\n",
       "      <td>Afghanistan</td>\n",
       "      <td>AFG</td>\n",
       "      <td>2021-02-23</td>\n",
       "      <td>NaN</td>\n",
       "      <td>NaN</td>\n",
       "      <td>NaN</td>\n",
       "      <td>NaN</td>\n",
       "      <td>1367.0</td>\n",
       "      <td>NaN</td>\n",
       "      <td>NaN</td>\n",
       "      <td>NaN</td>\n",
       "      <td>34.0</td>\n",
       "      <td>Johnson&amp;Johnson, Oxford/AstraZeneca, Pfizer/Bi...</td>\n",
       "      <td>World Health Organization</td>\n",
       "      <td>https://covid19.who.int/</td>\n",
       "    </tr>\n",
       "    <tr>\n",
       "      <th>2</th>\n",
       "      <td>Afghanistan</td>\n",
       "      <td>AFG</td>\n",
       "      <td>2021-02-24</td>\n",
       "      <td>NaN</td>\n",
       "      <td>NaN</td>\n",
       "      <td>NaN</td>\n",
       "      <td>NaN</td>\n",
       "      <td>1367.0</td>\n",
       "      <td>NaN</td>\n",
       "      <td>NaN</td>\n",
       "      <td>NaN</td>\n",
       "      <td>34.0</td>\n",
       "      <td>Johnson&amp;Johnson, Oxford/AstraZeneca, Pfizer/Bi...</td>\n",
       "      <td>World Health Organization</td>\n",
       "      <td>https://covid19.who.int/</td>\n",
       "    </tr>\n",
       "    <tr>\n",
       "      <th>3</th>\n",
       "      <td>Afghanistan</td>\n",
       "      <td>AFG</td>\n",
       "      <td>2021-02-25</td>\n",
       "      <td>NaN</td>\n",
       "      <td>NaN</td>\n",
       "      <td>NaN</td>\n",
       "      <td>NaN</td>\n",
       "      <td>1367.0</td>\n",
       "      <td>NaN</td>\n",
       "      <td>NaN</td>\n",
       "      <td>NaN</td>\n",
       "      <td>34.0</td>\n",
       "      <td>Johnson&amp;Johnson, Oxford/AstraZeneca, Pfizer/Bi...</td>\n",
       "      <td>World Health Organization</td>\n",
       "      <td>https://covid19.who.int/</td>\n",
       "    </tr>\n",
       "    <tr>\n",
       "      <th>4</th>\n",
       "      <td>Afghanistan</td>\n",
       "      <td>AFG</td>\n",
       "      <td>2021-02-26</td>\n",
       "      <td>NaN</td>\n",
       "      <td>NaN</td>\n",
       "      <td>NaN</td>\n",
       "      <td>NaN</td>\n",
       "      <td>1367.0</td>\n",
       "      <td>NaN</td>\n",
       "      <td>NaN</td>\n",
       "      <td>NaN</td>\n",
       "      <td>34.0</td>\n",
       "      <td>Johnson&amp;Johnson, Oxford/AstraZeneca, Pfizer/Bi...</td>\n",
       "      <td>World Health Organization</td>\n",
       "      <td>https://covid19.who.int/</td>\n",
       "    </tr>\n",
       "    <tr>\n",
       "      <th>...</th>\n",
       "      <td>...</td>\n",
       "      <td>...</td>\n",
       "      <td>...</td>\n",
       "      <td>...</td>\n",
       "      <td>...</td>\n",
       "      <td>...</td>\n",
       "      <td>...</td>\n",
       "      <td>...</td>\n",
       "      <td>...</td>\n",
       "      <td>...</td>\n",
       "      <td>...</td>\n",
       "      <td>...</td>\n",
       "      <td>...</td>\n",
       "      <td>...</td>\n",
       "      <td>...</td>\n",
       "    </tr>\n",
       "    <tr>\n",
       "      <th>86507</th>\n",
       "      <td>Zimbabwe</td>\n",
       "      <td>ZWE</td>\n",
       "      <td>2022-03-25</td>\n",
       "      <td>8691642.0</td>\n",
       "      <td>4814582.0</td>\n",
       "      <td>3473523.0</td>\n",
       "      <td>139213.0</td>\n",
       "      <td>69579.0</td>\n",
       "      <td>57.59</td>\n",
       "      <td>31.90</td>\n",
       "      <td>23.02</td>\n",
       "      <td>4610.0</td>\n",
       "      <td>Oxford/AstraZeneca, Sinopharm/Beijing, Sinovac...</td>\n",
       "      <td>Ministry of Health</td>\n",
       "      <td>https://www.arcgis.com/home/webmap/viewer.html...</td>\n",
       "    </tr>\n",
       "    <tr>\n",
       "      <th>86508</th>\n",
       "      <td>Zimbabwe</td>\n",
       "      <td>ZWE</td>\n",
       "      <td>2022-03-26</td>\n",
       "      <td>8791728.0</td>\n",
       "      <td>4886242.0</td>\n",
       "      <td>3487962.0</td>\n",
       "      <td>100086.0</td>\n",
       "      <td>83429.0</td>\n",
       "      <td>58.25</td>\n",
       "      <td>32.38</td>\n",
       "      <td>23.11</td>\n",
       "      <td>5528.0</td>\n",
       "      <td>Oxford/AstraZeneca, Sinopharm/Beijing, Sinovac...</td>\n",
       "      <td>Ministry of Health</td>\n",
       "      <td>https://www.arcgis.com/home/webmap/viewer.html...</td>\n",
       "    </tr>\n",
       "    <tr>\n",
       "      <th>86509</th>\n",
       "      <td>Zimbabwe</td>\n",
       "      <td>ZWE</td>\n",
       "      <td>2022-03-27</td>\n",
       "      <td>8845039.0</td>\n",
       "      <td>4918147.0</td>\n",
       "      <td>3493763.0</td>\n",
       "      <td>53311.0</td>\n",
       "      <td>90629.0</td>\n",
       "      <td>58.61</td>\n",
       "      <td>32.59</td>\n",
       "      <td>23.15</td>\n",
       "      <td>6005.0</td>\n",
       "      <td>Oxford/AstraZeneca, Sinopharm/Beijing, Sinovac...</td>\n",
       "      <td>Ministry of Health</td>\n",
       "      <td>https://www.arcgis.com/home/webmap/viewer.html...</td>\n",
       "    </tr>\n",
       "    <tr>\n",
       "      <th>86510</th>\n",
       "      <td>Zimbabwe</td>\n",
       "      <td>ZWE</td>\n",
       "      <td>2022-03-28</td>\n",
       "      <td>8934360.0</td>\n",
       "      <td>4975433.0</td>\n",
       "      <td>3501493.0</td>\n",
       "      <td>89321.0</td>\n",
       "      <td>100614.0</td>\n",
       "      <td>59.20</td>\n",
       "      <td>32.97</td>\n",
       "      <td>23.20</td>\n",
       "      <td>6667.0</td>\n",
       "      <td>Oxford/AstraZeneca, Sinopharm/Beijing, Sinovac...</td>\n",
       "      <td>Ministry of Health</td>\n",
       "      <td>https://www.arcgis.com/home/webmap/viewer.html...</td>\n",
       "    </tr>\n",
       "    <tr>\n",
       "      <th>86511</th>\n",
       "      <td>Zimbabwe</td>\n",
       "      <td>ZWE</td>\n",
       "      <td>2022-03-29</td>\n",
       "      <td>9039729.0</td>\n",
       "      <td>5053114.0</td>\n",
       "      <td>3510256.0</td>\n",
       "      <td>105369.0</td>\n",
       "      <td>103751.0</td>\n",
       "      <td>59.90</td>\n",
       "      <td>33.48</td>\n",
       "      <td>23.26</td>\n",
       "      <td>6874.0</td>\n",
       "      <td>Oxford/AstraZeneca, Sinopharm/Beijing, Sinovac...</td>\n",
       "      <td>Ministry of Health</td>\n",
       "      <td>https://www.arcgis.com/home/webmap/viewer.html...</td>\n",
       "    </tr>\n",
       "  </tbody>\n",
       "</table>\n",
       "<p>86512 rows × 15 columns</p>\n",
       "</div>"
      ],
      "text/plain": [
       "           country iso_code        date  total_vaccinations  \\\n",
       "0      Afghanistan      AFG  2021-02-22                 0.0   \n",
       "1      Afghanistan      AFG  2021-02-23                 NaN   \n",
       "2      Afghanistan      AFG  2021-02-24                 NaN   \n",
       "3      Afghanistan      AFG  2021-02-25                 NaN   \n",
       "4      Afghanistan      AFG  2021-02-26                 NaN   \n",
       "...            ...      ...         ...                 ...   \n",
       "86507     Zimbabwe      ZWE  2022-03-25           8691642.0   \n",
       "86508     Zimbabwe      ZWE  2022-03-26           8791728.0   \n",
       "86509     Zimbabwe      ZWE  2022-03-27           8845039.0   \n",
       "86510     Zimbabwe      ZWE  2022-03-28           8934360.0   \n",
       "86511     Zimbabwe      ZWE  2022-03-29           9039729.0   \n",
       "\n",
       "       people_vaccinated  people_fully_vaccinated  daily_vaccinations_raw  \\\n",
       "0                    0.0                      NaN                     NaN   \n",
       "1                    NaN                      NaN                     NaN   \n",
       "2                    NaN                      NaN                     NaN   \n",
       "3                    NaN                      NaN                     NaN   \n",
       "4                    NaN                      NaN                     NaN   \n",
       "...                  ...                      ...                     ...   \n",
       "86507          4814582.0                3473523.0                139213.0   \n",
       "86508          4886242.0                3487962.0                100086.0   \n",
       "86509          4918147.0                3493763.0                 53311.0   \n",
       "86510          4975433.0                3501493.0                 89321.0   \n",
       "86511          5053114.0                3510256.0                105369.0   \n",
       "\n",
       "       daily_vaccinations  total_vaccinations_per_hundred  \\\n",
       "0                     NaN                            0.00   \n",
       "1                  1367.0                             NaN   \n",
       "2                  1367.0                             NaN   \n",
       "3                  1367.0                             NaN   \n",
       "4                  1367.0                             NaN   \n",
       "...                   ...                             ...   \n",
       "86507             69579.0                           57.59   \n",
       "86508             83429.0                           58.25   \n",
       "86509             90629.0                           58.61   \n",
       "86510            100614.0                           59.20   \n",
       "86511            103751.0                           59.90   \n",
       "\n",
       "       people_vaccinated_per_hundred  people_fully_vaccinated_per_hundred  \\\n",
       "0                               0.00                                  NaN   \n",
       "1                                NaN                                  NaN   \n",
       "2                                NaN                                  NaN   \n",
       "3                                NaN                                  NaN   \n",
       "4                                NaN                                  NaN   \n",
       "...                              ...                                  ...   \n",
       "86507                          31.90                                23.02   \n",
       "86508                          32.38                                23.11   \n",
       "86509                          32.59                                23.15   \n",
       "86510                          32.97                                23.20   \n",
       "86511                          33.48                                23.26   \n",
       "\n",
       "       daily_vaccinations_per_million  \\\n",
       "0                                 NaN   \n",
       "1                                34.0   \n",
       "2                                34.0   \n",
       "3                                34.0   \n",
       "4                                34.0   \n",
       "...                               ...   \n",
       "86507                          4610.0   \n",
       "86508                          5528.0   \n",
       "86509                          6005.0   \n",
       "86510                          6667.0   \n",
       "86511                          6874.0   \n",
       "\n",
       "                                                vaccines  \\\n",
       "0      Johnson&Johnson, Oxford/AstraZeneca, Pfizer/Bi...   \n",
       "1      Johnson&Johnson, Oxford/AstraZeneca, Pfizer/Bi...   \n",
       "2      Johnson&Johnson, Oxford/AstraZeneca, Pfizer/Bi...   \n",
       "3      Johnson&Johnson, Oxford/AstraZeneca, Pfizer/Bi...   \n",
       "4      Johnson&Johnson, Oxford/AstraZeneca, Pfizer/Bi...   \n",
       "...                                                  ...   \n",
       "86507  Oxford/AstraZeneca, Sinopharm/Beijing, Sinovac...   \n",
       "86508  Oxford/AstraZeneca, Sinopharm/Beijing, Sinovac...   \n",
       "86509  Oxford/AstraZeneca, Sinopharm/Beijing, Sinovac...   \n",
       "86510  Oxford/AstraZeneca, Sinopharm/Beijing, Sinovac...   \n",
       "86511  Oxford/AstraZeneca, Sinopharm/Beijing, Sinovac...   \n",
       "\n",
       "                     source_name  \\\n",
       "0      World Health Organization   \n",
       "1      World Health Organization   \n",
       "2      World Health Organization   \n",
       "3      World Health Organization   \n",
       "4      World Health Organization   \n",
       "...                          ...   \n",
       "86507         Ministry of Health   \n",
       "86508         Ministry of Health   \n",
       "86509         Ministry of Health   \n",
       "86510         Ministry of Health   \n",
       "86511         Ministry of Health   \n",
       "\n",
       "                                          source_website  \n",
       "0                               https://covid19.who.int/  \n",
       "1                               https://covid19.who.int/  \n",
       "2                               https://covid19.who.int/  \n",
       "3                               https://covid19.who.int/  \n",
       "4                               https://covid19.who.int/  \n",
       "...                                                  ...  \n",
       "86507  https://www.arcgis.com/home/webmap/viewer.html...  \n",
       "86508  https://www.arcgis.com/home/webmap/viewer.html...  \n",
       "86509  https://www.arcgis.com/home/webmap/viewer.html...  \n",
       "86510  https://www.arcgis.com/home/webmap/viewer.html...  \n",
       "86511  https://www.arcgis.com/home/webmap/viewer.html...  \n",
       "\n",
       "[86512 rows x 15 columns]"
      ]
     },
     "execution_count": 4,
     "metadata": {},
     "output_type": "execute_result"
    }
   ],
   "source": [
    "df"
   ]
  },
  {
   "cell_type": "code",
   "execution_count": 5,
   "id": "0e50b136",
   "metadata": {},
   "outputs": [
    {
     "data": {
      "text/plain": [
       "country                                    0\n",
       "iso_code                                   0\n",
       "date                                       0\n",
       "total_vaccinations                     42905\n",
       "people_vaccinated                      45218\n",
       "people_fully_vaccinated                47710\n",
       "daily_vaccinations_raw                 51150\n",
       "daily_vaccinations                       299\n",
       "total_vaccinations_per_hundred         42905\n",
       "people_vaccinated_per_hundred          45218\n",
       "people_fully_vaccinated_per_hundred    47710\n",
       "daily_vaccinations_per_million           299\n",
       "vaccines                                   0\n",
       "source_name                                0\n",
       "source_website                             0\n",
       "dtype: int64"
      ]
     },
     "execution_count": 5,
     "metadata": {},
     "output_type": "execute_result"
    }
   ],
   "source": [
    "df.isnull().sum()"
   ]
  },
  {
   "cell_type": "code",
   "execution_count": 6,
   "id": "e383d0cb",
   "metadata": {},
   "outputs": [],
   "source": [
    "from sklearn.impute import SimpleImputer"
   ]
  },
  {
   "cell_type": "code",
   "execution_count": 7,
   "id": "30e4cd9d",
   "metadata": {},
   "outputs": [],
   "source": [
    "imputer= SimpleImputer(missing_values=np.nan,strategy='mean')"
   ]
  },
  {
   "cell_type": "code",
   "execution_count": 8,
   "id": "d3118a08",
   "metadata": {},
   "outputs": [
    {
     "data": {
      "text/plain": [
       "SimpleImputer()"
      ]
     },
     "execution_count": 8,
     "metadata": {},
     "output_type": "execute_result"
    }
   ],
   "source": [
    "imputer"
   ]
  },
  {
   "cell_type": "code",
   "execution_count": 9,
   "id": "8988f0bb",
   "metadata": {},
   "outputs": [
    {
     "data": {
      "text/plain": [
       "(count          86512\n",
       " unique           483\n",
       " top       2021-08-19\n",
       " freq             220\n",
       " Name: date, dtype: object,\n",
       " count      86512\n",
       " unique       223\n",
       " top       Norway\n",
       " freq         482\n",
       " Name: country, dtype: object)"
      ]
     },
     "execution_count": 9,
     "metadata": {},
     "output_type": "execute_result"
    }
   ],
   "source": [
    "df['date'].describe() , df['country'].describe()"
   ]
  },
  {
   "cell_type": "code",
   "execution_count": 10,
   "id": "b9724595",
   "metadata": {},
   "outputs": [
    {
     "data": {
      "text/plain": [
       "count    4.360700e+04\n",
       "mean     4.592964e+07\n",
       "std      2.246004e+08\n",
       "min      0.000000e+00\n",
       "25%      5.264100e+05\n",
       "50%      3.590096e+06\n",
       "75%      1.701230e+07\n",
       "max      3.263129e+09\n",
       "Name: total_vaccinations, dtype: float64"
      ]
     },
     "execution_count": 10,
     "metadata": {},
     "output_type": "execute_result"
    }
   ],
   "source": [
    "df['total_vaccinations'].describe()"
   ]
  },
  {
   "cell_type": "code",
   "execution_count": 11,
   "id": "ac5d8537",
   "metadata": {},
   "outputs": [],
   "source": [
    "def null_to_avg():\n",
    "    c=input(\"enter the column you want to replace null values with avg_value:\")\n",
    "    y = df[c].count()+df[c].isna().sum()\n",
    "    x = np.reshape(df[c].values,(y,1))\n",
    "    imputer = SimpleImputer(missing_values=np.nan,strategy='mean')\n",
    "    imputer.fit(x)\n",
    "    df[c]=imputer.transform(x)\n",
    "    \n"
   ]
  },
  {
   "cell_type": "code",
   "execution_count": 13,
   "id": "1ae1cc43",
   "metadata": {},
   "outputs": [
    {
     "name": "stdout",
     "output_type": "stream",
     "text": [
      "enter the column you want to replace null values with avg_value:total_vaccinations\n"
     ]
    }
   ],
   "source": [
    "null_to_avg() "
   ]
  },
  {
   "cell_type": "code",
   "execution_count": 14,
   "id": "24fce76f",
   "metadata": {},
   "outputs": [
    {
     "name": "stdout",
     "output_type": "stream",
     "text": [
      "enter the column you want to replace null values with avg_value:people_vaccinated\n"
     ]
    }
   ],
   "source": [
    "null_to_avg()"
   ]
  },
  {
   "cell_type": "code",
   "execution_count": 15,
   "id": "dec0c7ad",
   "metadata": {},
   "outputs": [
    {
     "name": "stdout",
     "output_type": "stream",
     "text": [
      "enter the column you want to replace null values with avg_value:people_fully_vaccinated\n"
     ]
    }
   ],
   "source": [
    "null_to_avg()"
   ]
  },
  {
   "cell_type": "code",
   "execution_count": 16,
   "id": "0225e577",
   "metadata": {},
   "outputs": [
    {
     "name": "stdout",
     "output_type": "stream",
     "text": [
      "enter the column you want to replace null values with avg_value:daily_vaccinations_raw\n"
     ]
    }
   ],
   "source": [
    "null_to_avg()"
   ]
  },
  {
   "cell_type": "code",
   "execution_count": 17,
   "id": "8824eec6",
   "metadata": {},
   "outputs": [
    {
     "name": "stdout",
     "output_type": "stream",
     "text": [
      "enter the column you want to replace null values with avg_value:daily_vaccinations\n"
     ]
    }
   ],
   "source": [
    "null_to_avg() "
   ]
  },
  {
   "cell_type": "code",
   "execution_count": 18,
   "id": "5d80a8fa",
   "metadata": {},
   "outputs": [
    {
     "name": "stdout",
     "output_type": "stream",
     "text": [
      "enter the column you want to replace null values with avg_value:total_vaccinations_per_hundred\n"
     ]
    }
   ],
   "source": [
    "null_to_avg()"
   ]
  },
  {
   "cell_type": "code",
   "execution_count": 19,
   "id": "8d62fadc",
   "metadata": {},
   "outputs": [
    {
     "name": "stdout",
     "output_type": "stream",
     "text": [
      "enter the column you want to replace null values with avg_value:people_vaccinated_per_hundred\n"
     ]
    }
   ],
   "source": [
    "null_to_avg() "
   ]
  },
  {
   "cell_type": "code",
   "execution_count": 20,
   "id": "c65d1d0b",
   "metadata": {},
   "outputs": [
    {
     "name": "stdout",
     "output_type": "stream",
     "text": [
      "enter the column you want to replace null values with avg_value:people_fully_vaccinated_per_hundred\n"
     ]
    }
   ],
   "source": [
    "null_to_avg()"
   ]
  },
  {
   "cell_type": "code",
   "execution_count": 21,
   "id": "7641aab8",
   "metadata": {},
   "outputs": [
    {
     "name": "stdout",
     "output_type": "stream",
     "text": [
      "enter the column you want to replace null values with avg_value:daily_vaccinations_per_million\n"
     ]
    }
   ],
   "source": [
    "null_to_avg() "
   ]
  },
  {
   "cell_type": "code",
   "execution_count": 22,
   "id": "5e510af7",
   "metadata": {},
   "outputs": [
    {
     "data": {
      "text/html": [
       "<div>\n",
       "<style scoped>\n",
       "    .dataframe tbody tr th:only-of-type {\n",
       "        vertical-align: middle;\n",
       "    }\n",
       "\n",
       "    .dataframe tbody tr th {\n",
       "        vertical-align: top;\n",
       "    }\n",
       "\n",
       "    .dataframe thead th {\n",
       "        text-align: right;\n",
       "    }\n",
       "</style>\n",
       "<table border=\"1\" class=\"dataframe\">\n",
       "  <thead>\n",
       "    <tr style=\"text-align: right;\">\n",
       "      <th></th>\n",
       "      <th>country</th>\n",
       "      <th>iso_code</th>\n",
       "      <th>date</th>\n",
       "      <th>total_vaccinations</th>\n",
       "      <th>people_vaccinated</th>\n",
       "      <th>people_fully_vaccinated</th>\n",
       "      <th>daily_vaccinations_raw</th>\n",
       "      <th>daily_vaccinations</th>\n",
       "      <th>total_vaccinations_per_hundred</th>\n",
       "      <th>people_vaccinated_per_hundred</th>\n",
       "      <th>people_fully_vaccinated_per_hundred</th>\n",
       "      <th>daily_vaccinations_per_million</th>\n",
       "      <th>vaccines</th>\n",
       "      <th>source_name</th>\n",
       "      <th>source_website</th>\n",
       "    </tr>\n",
       "  </thead>\n",
       "  <tbody>\n",
       "    <tr>\n",
       "      <th>0</th>\n",
       "      <td>Afghanistan</td>\n",
       "      <td>AFG</td>\n",
       "      <td>2021-02-22</td>\n",
       "      <td>0.000000e+00</td>\n",
       "      <td>0.000000e+00</td>\n",
       "      <td>1.413830e+07</td>\n",
       "      <td>270599.578248</td>\n",
       "      <td>131305.486075</td>\n",
       "      <td>0.000000</td>\n",
       "      <td>0.000000</td>\n",
       "      <td>35.523243</td>\n",
       "      <td>3257.049157</td>\n",
       "      <td>Johnson&amp;Johnson, Oxford/AstraZeneca, Pfizer/Bi...</td>\n",
       "      <td>World Health Organization</td>\n",
       "      <td>https://covid19.who.int/</td>\n",
       "    </tr>\n",
       "    <tr>\n",
       "      <th>1</th>\n",
       "      <td>Afghanistan</td>\n",
       "      <td>AFG</td>\n",
       "      <td>2021-02-23</td>\n",
       "      <td>4.592964e+07</td>\n",
       "      <td>1.770508e+07</td>\n",
       "      <td>1.413830e+07</td>\n",
       "      <td>270599.578248</td>\n",
       "      <td>1367.000000</td>\n",
       "      <td>80.188543</td>\n",
       "      <td>40.927317</td>\n",
       "      <td>35.523243</td>\n",
       "      <td>34.000000</td>\n",
       "      <td>Johnson&amp;Johnson, Oxford/AstraZeneca, Pfizer/Bi...</td>\n",
       "      <td>World Health Organization</td>\n",
       "      <td>https://covid19.who.int/</td>\n",
       "    </tr>\n",
       "    <tr>\n",
       "      <th>2</th>\n",
       "      <td>Afghanistan</td>\n",
       "      <td>AFG</td>\n",
       "      <td>2021-02-24</td>\n",
       "      <td>4.592964e+07</td>\n",
       "      <td>1.770508e+07</td>\n",
       "      <td>1.413830e+07</td>\n",
       "      <td>270599.578248</td>\n",
       "      <td>1367.000000</td>\n",
       "      <td>80.188543</td>\n",
       "      <td>40.927317</td>\n",
       "      <td>35.523243</td>\n",
       "      <td>34.000000</td>\n",
       "      <td>Johnson&amp;Johnson, Oxford/AstraZeneca, Pfizer/Bi...</td>\n",
       "      <td>World Health Organization</td>\n",
       "      <td>https://covid19.who.int/</td>\n",
       "    </tr>\n",
       "    <tr>\n",
       "      <th>3</th>\n",
       "      <td>Afghanistan</td>\n",
       "      <td>AFG</td>\n",
       "      <td>2021-02-25</td>\n",
       "      <td>4.592964e+07</td>\n",
       "      <td>1.770508e+07</td>\n",
       "      <td>1.413830e+07</td>\n",
       "      <td>270599.578248</td>\n",
       "      <td>1367.000000</td>\n",
       "      <td>80.188543</td>\n",
       "      <td>40.927317</td>\n",
       "      <td>35.523243</td>\n",
       "      <td>34.000000</td>\n",
       "      <td>Johnson&amp;Johnson, Oxford/AstraZeneca, Pfizer/Bi...</td>\n",
       "      <td>World Health Organization</td>\n",
       "      <td>https://covid19.who.int/</td>\n",
       "    </tr>\n",
       "    <tr>\n",
       "      <th>4</th>\n",
       "      <td>Afghanistan</td>\n",
       "      <td>AFG</td>\n",
       "      <td>2021-02-26</td>\n",
       "      <td>4.592964e+07</td>\n",
       "      <td>1.770508e+07</td>\n",
       "      <td>1.413830e+07</td>\n",
       "      <td>270599.578248</td>\n",
       "      <td>1367.000000</td>\n",
       "      <td>80.188543</td>\n",
       "      <td>40.927317</td>\n",
       "      <td>35.523243</td>\n",
       "      <td>34.000000</td>\n",
       "      <td>Johnson&amp;Johnson, Oxford/AstraZeneca, Pfizer/Bi...</td>\n",
       "      <td>World Health Organization</td>\n",
       "      <td>https://covid19.who.int/</td>\n",
       "    </tr>\n",
       "    <tr>\n",
       "      <th>...</th>\n",
       "      <td>...</td>\n",
       "      <td>...</td>\n",
       "      <td>...</td>\n",
       "      <td>...</td>\n",
       "      <td>...</td>\n",
       "      <td>...</td>\n",
       "      <td>...</td>\n",
       "      <td>...</td>\n",
       "      <td>...</td>\n",
       "      <td>...</td>\n",
       "      <td>...</td>\n",
       "      <td>...</td>\n",
       "      <td>...</td>\n",
       "      <td>...</td>\n",
       "      <td>...</td>\n",
       "    </tr>\n",
       "    <tr>\n",
       "      <th>86507</th>\n",
       "      <td>Zimbabwe</td>\n",
       "      <td>ZWE</td>\n",
       "      <td>2022-03-25</td>\n",
       "      <td>8.691642e+06</td>\n",
       "      <td>4.814582e+06</td>\n",
       "      <td>3.473523e+06</td>\n",
       "      <td>139213.000000</td>\n",
       "      <td>69579.000000</td>\n",
       "      <td>57.590000</td>\n",
       "      <td>31.900000</td>\n",
       "      <td>23.020000</td>\n",
       "      <td>4610.000000</td>\n",
       "      <td>Oxford/AstraZeneca, Sinopharm/Beijing, Sinovac...</td>\n",
       "      <td>Ministry of Health</td>\n",
       "      <td>https://www.arcgis.com/home/webmap/viewer.html...</td>\n",
       "    </tr>\n",
       "    <tr>\n",
       "      <th>86508</th>\n",
       "      <td>Zimbabwe</td>\n",
       "      <td>ZWE</td>\n",
       "      <td>2022-03-26</td>\n",
       "      <td>8.791728e+06</td>\n",
       "      <td>4.886242e+06</td>\n",
       "      <td>3.487962e+06</td>\n",
       "      <td>100086.000000</td>\n",
       "      <td>83429.000000</td>\n",
       "      <td>58.250000</td>\n",
       "      <td>32.380000</td>\n",
       "      <td>23.110000</td>\n",
       "      <td>5528.000000</td>\n",
       "      <td>Oxford/AstraZeneca, Sinopharm/Beijing, Sinovac...</td>\n",
       "      <td>Ministry of Health</td>\n",
       "      <td>https://www.arcgis.com/home/webmap/viewer.html...</td>\n",
       "    </tr>\n",
       "    <tr>\n",
       "      <th>86509</th>\n",
       "      <td>Zimbabwe</td>\n",
       "      <td>ZWE</td>\n",
       "      <td>2022-03-27</td>\n",
       "      <td>8.845039e+06</td>\n",
       "      <td>4.918147e+06</td>\n",
       "      <td>3.493763e+06</td>\n",
       "      <td>53311.000000</td>\n",
       "      <td>90629.000000</td>\n",
       "      <td>58.610000</td>\n",
       "      <td>32.590000</td>\n",
       "      <td>23.150000</td>\n",
       "      <td>6005.000000</td>\n",
       "      <td>Oxford/AstraZeneca, Sinopharm/Beijing, Sinovac...</td>\n",
       "      <td>Ministry of Health</td>\n",
       "      <td>https://www.arcgis.com/home/webmap/viewer.html...</td>\n",
       "    </tr>\n",
       "    <tr>\n",
       "      <th>86510</th>\n",
       "      <td>Zimbabwe</td>\n",
       "      <td>ZWE</td>\n",
       "      <td>2022-03-28</td>\n",
       "      <td>8.934360e+06</td>\n",
       "      <td>4.975433e+06</td>\n",
       "      <td>3.501493e+06</td>\n",
       "      <td>89321.000000</td>\n",
       "      <td>100614.000000</td>\n",
       "      <td>59.200000</td>\n",
       "      <td>32.970000</td>\n",
       "      <td>23.200000</td>\n",
       "      <td>6667.000000</td>\n",
       "      <td>Oxford/AstraZeneca, Sinopharm/Beijing, Sinovac...</td>\n",
       "      <td>Ministry of Health</td>\n",
       "      <td>https://www.arcgis.com/home/webmap/viewer.html...</td>\n",
       "    </tr>\n",
       "    <tr>\n",
       "      <th>86511</th>\n",
       "      <td>Zimbabwe</td>\n",
       "      <td>ZWE</td>\n",
       "      <td>2022-03-29</td>\n",
       "      <td>9.039729e+06</td>\n",
       "      <td>5.053114e+06</td>\n",
       "      <td>3.510256e+06</td>\n",
       "      <td>105369.000000</td>\n",
       "      <td>103751.000000</td>\n",
       "      <td>59.900000</td>\n",
       "      <td>33.480000</td>\n",
       "      <td>23.260000</td>\n",
       "      <td>6874.000000</td>\n",
       "      <td>Oxford/AstraZeneca, Sinopharm/Beijing, Sinovac...</td>\n",
       "      <td>Ministry of Health</td>\n",
       "      <td>https://www.arcgis.com/home/webmap/viewer.html...</td>\n",
       "    </tr>\n",
       "  </tbody>\n",
       "</table>\n",
       "<p>86512 rows × 15 columns</p>\n",
       "</div>"
      ],
      "text/plain": [
       "           country iso_code        date  total_vaccinations  \\\n",
       "0      Afghanistan      AFG  2021-02-22        0.000000e+00   \n",
       "1      Afghanistan      AFG  2021-02-23        4.592964e+07   \n",
       "2      Afghanistan      AFG  2021-02-24        4.592964e+07   \n",
       "3      Afghanistan      AFG  2021-02-25        4.592964e+07   \n",
       "4      Afghanistan      AFG  2021-02-26        4.592964e+07   \n",
       "...            ...      ...         ...                 ...   \n",
       "86507     Zimbabwe      ZWE  2022-03-25        8.691642e+06   \n",
       "86508     Zimbabwe      ZWE  2022-03-26        8.791728e+06   \n",
       "86509     Zimbabwe      ZWE  2022-03-27        8.845039e+06   \n",
       "86510     Zimbabwe      ZWE  2022-03-28        8.934360e+06   \n",
       "86511     Zimbabwe      ZWE  2022-03-29        9.039729e+06   \n",
       "\n",
       "       people_vaccinated  people_fully_vaccinated  daily_vaccinations_raw  \\\n",
       "0           0.000000e+00             1.413830e+07           270599.578248   \n",
       "1           1.770508e+07             1.413830e+07           270599.578248   \n",
       "2           1.770508e+07             1.413830e+07           270599.578248   \n",
       "3           1.770508e+07             1.413830e+07           270599.578248   \n",
       "4           1.770508e+07             1.413830e+07           270599.578248   \n",
       "...                  ...                      ...                     ...   \n",
       "86507       4.814582e+06             3.473523e+06           139213.000000   \n",
       "86508       4.886242e+06             3.487962e+06           100086.000000   \n",
       "86509       4.918147e+06             3.493763e+06            53311.000000   \n",
       "86510       4.975433e+06             3.501493e+06            89321.000000   \n",
       "86511       5.053114e+06             3.510256e+06           105369.000000   \n",
       "\n",
       "       daily_vaccinations  total_vaccinations_per_hundred  \\\n",
       "0           131305.486075                        0.000000   \n",
       "1             1367.000000                       80.188543   \n",
       "2             1367.000000                       80.188543   \n",
       "3             1367.000000                       80.188543   \n",
       "4             1367.000000                       80.188543   \n",
       "...                   ...                             ...   \n",
       "86507        69579.000000                       57.590000   \n",
       "86508        83429.000000                       58.250000   \n",
       "86509        90629.000000                       58.610000   \n",
       "86510       100614.000000                       59.200000   \n",
       "86511       103751.000000                       59.900000   \n",
       "\n",
       "       people_vaccinated_per_hundred  people_fully_vaccinated_per_hundred  \\\n",
       "0                           0.000000                            35.523243   \n",
       "1                          40.927317                            35.523243   \n",
       "2                          40.927317                            35.523243   \n",
       "3                          40.927317                            35.523243   \n",
       "4                          40.927317                            35.523243   \n",
       "...                              ...                                  ...   \n",
       "86507                      31.900000                            23.020000   \n",
       "86508                      32.380000                            23.110000   \n",
       "86509                      32.590000                            23.150000   \n",
       "86510                      32.970000                            23.200000   \n",
       "86511                      33.480000                            23.260000   \n",
       "\n",
       "       daily_vaccinations_per_million  \\\n",
       "0                         3257.049157   \n",
       "1                           34.000000   \n",
       "2                           34.000000   \n",
       "3                           34.000000   \n",
       "4                           34.000000   \n",
       "...                               ...   \n",
       "86507                     4610.000000   \n",
       "86508                     5528.000000   \n",
       "86509                     6005.000000   \n",
       "86510                     6667.000000   \n",
       "86511                     6874.000000   \n",
       "\n",
       "                                                vaccines  \\\n",
       "0      Johnson&Johnson, Oxford/AstraZeneca, Pfizer/Bi...   \n",
       "1      Johnson&Johnson, Oxford/AstraZeneca, Pfizer/Bi...   \n",
       "2      Johnson&Johnson, Oxford/AstraZeneca, Pfizer/Bi...   \n",
       "3      Johnson&Johnson, Oxford/AstraZeneca, Pfizer/Bi...   \n",
       "4      Johnson&Johnson, Oxford/AstraZeneca, Pfizer/Bi...   \n",
       "...                                                  ...   \n",
       "86507  Oxford/AstraZeneca, Sinopharm/Beijing, Sinovac...   \n",
       "86508  Oxford/AstraZeneca, Sinopharm/Beijing, Sinovac...   \n",
       "86509  Oxford/AstraZeneca, Sinopharm/Beijing, Sinovac...   \n",
       "86510  Oxford/AstraZeneca, Sinopharm/Beijing, Sinovac...   \n",
       "86511  Oxford/AstraZeneca, Sinopharm/Beijing, Sinovac...   \n",
       "\n",
       "                     source_name  \\\n",
       "0      World Health Organization   \n",
       "1      World Health Organization   \n",
       "2      World Health Organization   \n",
       "3      World Health Organization   \n",
       "4      World Health Organization   \n",
       "...                          ...   \n",
       "86507         Ministry of Health   \n",
       "86508         Ministry of Health   \n",
       "86509         Ministry of Health   \n",
       "86510         Ministry of Health   \n",
       "86511         Ministry of Health   \n",
       "\n",
       "                                          source_website  \n",
       "0                               https://covid19.who.int/  \n",
       "1                               https://covid19.who.int/  \n",
       "2                               https://covid19.who.int/  \n",
       "3                               https://covid19.who.int/  \n",
       "4                               https://covid19.who.int/  \n",
       "...                                                  ...  \n",
       "86507  https://www.arcgis.com/home/webmap/viewer.html...  \n",
       "86508  https://www.arcgis.com/home/webmap/viewer.html...  \n",
       "86509  https://www.arcgis.com/home/webmap/viewer.html...  \n",
       "86510  https://www.arcgis.com/home/webmap/viewer.html...  \n",
       "86511  https://www.arcgis.com/home/webmap/viewer.html...  \n",
       "\n",
       "[86512 rows x 15 columns]"
      ]
     },
     "execution_count": 22,
     "metadata": {},
     "output_type": "execute_result"
    }
   ],
   "source": [
    "df"
   ]
  },
  {
   "cell_type": "code",
   "execution_count": 23,
   "id": "6f91c1ad",
   "metadata": {},
   "outputs": [
    {
     "data": {
      "text/plain": [
       "country                                0\n",
       "iso_code                               0\n",
       "date                                   0\n",
       "total_vaccinations                     0\n",
       "people_vaccinated                      0\n",
       "people_fully_vaccinated                0\n",
       "daily_vaccinations_raw                 0\n",
       "daily_vaccinations                     0\n",
       "total_vaccinations_per_hundred         0\n",
       "people_vaccinated_per_hundred          0\n",
       "people_fully_vaccinated_per_hundred    0\n",
       "daily_vaccinations_per_million         0\n",
       "vaccines                               0\n",
       "source_name                            0\n",
       "source_website                         0\n",
       "dtype: int64"
      ]
     },
     "execution_count": 23,
     "metadata": {},
     "output_type": "execute_result"
    }
   ],
   "source": [
    "df.isna().sum()"
   ]
  },
  {
   "cell_type": "code",
   "execution_count": 68,
   "id": "adc16fec",
   "metadata": {},
   "outputs": [],
   "source": [
    "df_ind = df[df['country'] == 'India']"
   ]
  },
  {
   "cell_type": "code",
   "execution_count": 69,
   "id": "4e829abe",
   "metadata": {},
   "outputs": [
    {
     "data": {
      "text/html": [
       "<div>\n",
       "<style scoped>\n",
       "    .dataframe tbody tr th:only-of-type {\n",
       "        vertical-align: middle;\n",
       "    }\n",
       "\n",
       "    .dataframe tbody tr th {\n",
       "        vertical-align: top;\n",
       "    }\n",
       "\n",
       "    .dataframe thead th {\n",
       "        text-align: right;\n",
       "    }\n",
       "</style>\n",
       "<table border=\"1\" class=\"dataframe\">\n",
       "  <thead>\n",
       "    <tr style=\"text-align: right;\">\n",
       "      <th></th>\n",
       "      <th>country</th>\n",
       "      <th>iso_code</th>\n",
       "      <th>date</th>\n",
       "      <th>total_vaccinations</th>\n",
       "      <th>people_vaccinated</th>\n",
       "      <th>people_fully_vaccinated</th>\n",
       "      <th>daily_vaccinations_raw</th>\n",
       "      <th>daily_vaccinations</th>\n",
       "      <th>total_vaccinations_per_hundred</th>\n",
       "      <th>people_vaccinated_per_hundred</th>\n",
       "      <th>people_fully_vaccinated_per_hundred</th>\n",
       "      <th>daily_vaccinations_per_million</th>\n",
       "      <th>vaccines</th>\n",
       "      <th>source_name</th>\n",
       "      <th>source_website</th>\n",
       "    </tr>\n",
       "  </thead>\n",
       "  <tbody>\n",
       "    <tr>\n",
       "      <th>35372</th>\n",
       "      <td>India</td>\n",
       "      <td>IND</td>\n",
       "      <td>2021-01-15</td>\n",
       "      <td>0.000000e+00</td>\n",
       "      <td>0.0</td>\n",
       "      <td>1.413830e+07</td>\n",
       "      <td>2.705996e+05</td>\n",
       "      <td>1.313055e+05</td>\n",
       "      <td>0.00</td>\n",
       "      <td>0.00</td>\n",
       "      <td>35.523243</td>\n",
       "      <td>3257.049157</td>\n",
       "      <td>Covaxin, Oxford/AstraZeneca, Sputnik V</td>\n",
       "      <td>Government of India</td>\n",
       "      <td>https://dashboard.cowin.gov.in/</td>\n",
       "    </tr>\n",
       "    <tr>\n",
       "      <th>35373</th>\n",
       "      <td>India</td>\n",
       "      <td>IND</td>\n",
       "      <td>2021-01-16</td>\n",
       "      <td>1.911810e+05</td>\n",
       "      <td>191181.0</td>\n",
       "      <td>1.413830e+07</td>\n",
       "      <td>1.911810e+05</td>\n",
       "      <td>1.911810e+05</td>\n",
       "      <td>0.01</td>\n",
       "      <td>0.01</td>\n",
       "      <td>35.523243</td>\n",
       "      <td>137.000000</td>\n",
       "      <td>Covaxin, Oxford/AstraZeneca, Sputnik V</td>\n",
       "      <td>Government of India</td>\n",
       "      <td>https://dashboard.cowin.gov.in/</td>\n",
       "    </tr>\n",
       "    <tr>\n",
       "      <th>35374</th>\n",
       "      <td>India</td>\n",
       "      <td>IND</td>\n",
       "      <td>2021-01-17</td>\n",
       "      <td>2.243010e+05</td>\n",
       "      <td>224301.0</td>\n",
       "      <td>1.413830e+07</td>\n",
       "      <td>3.312000e+04</td>\n",
       "      <td>1.121500e+05</td>\n",
       "      <td>0.02</td>\n",
       "      <td>0.02</td>\n",
       "      <td>35.523243</td>\n",
       "      <td>80.000000</td>\n",
       "      <td>Covaxin, Oxford/AstraZeneca, Sputnik V</td>\n",
       "      <td>Government of India</td>\n",
       "      <td>https://dashboard.cowin.gov.in/</td>\n",
       "    </tr>\n",
       "    <tr>\n",
       "      <th>35375</th>\n",
       "      <td>India</td>\n",
       "      <td>IND</td>\n",
       "      <td>2021-01-18</td>\n",
       "      <td>4.540490e+05</td>\n",
       "      <td>454049.0</td>\n",
       "      <td>1.413830e+07</td>\n",
       "      <td>2.297480e+05</td>\n",
       "      <td>1.513500e+05</td>\n",
       "      <td>0.03</td>\n",
       "      <td>0.03</td>\n",
       "      <td>35.523243</td>\n",
       "      <td>109.000000</td>\n",
       "      <td>Covaxin, Oxford/AstraZeneca, Sputnik V</td>\n",
       "      <td>Government of India</td>\n",
       "      <td>https://dashboard.cowin.gov.in/</td>\n",
       "    </tr>\n",
       "    <tr>\n",
       "      <th>35376</th>\n",
       "      <td>India</td>\n",
       "      <td>IND</td>\n",
       "      <td>2021-01-19</td>\n",
       "      <td>6.748350e+05</td>\n",
       "      <td>674835.0</td>\n",
       "      <td>1.413830e+07</td>\n",
       "      <td>2.207860e+05</td>\n",
       "      <td>1.687090e+05</td>\n",
       "      <td>0.05</td>\n",
       "      <td>0.05</td>\n",
       "      <td>35.523243</td>\n",
       "      <td>121.000000</td>\n",
       "      <td>Covaxin, Oxford/AstraZeneca, Sputnik V</td>\n",
       "      <td>Government of India</td>\n",
       "      <td>https://dashboard.cowin.gov.in/</td>\n",
       "    </tr>\n",
       "    <tr>\n",
       "      <th>...</th>\n",
       "      <td>...</td>\n",
       "      <td>...</td>\n",
       "      <td>...</td>\n",
       "      <td>...</td>\n",
       "      <td>...</td>\n",
       "      <td>...</td>\n",
       "      <td>...</td>\n",
       "      <td>...</td>\n",
       "      <td>...</td>\n",
       "      <td>...</td>\n",
       "      <td>...</td>\n",
       "      <td>...</td>\n",
       "      <td>...</td>\n",
       "      <td>...</td>\n",
       "      <td>...</td>\n",
       "    </tr>\n",
       "    <tr>\n",
       "      <th>35806</th>\n",
       "      <td>India</td>\n",
       "      <td>IND</td>\n",
       "      <td>2022-03-25</td>\n",
       "      <td>1.826266e+09</td>\n",
       "      <td>980435665.0</td>\n",
       "      <td>8.247646e+08</td>\n",
       "      <td>1.997100e+06</td>\n",
       "      <td>2.433734e+06</td>\n",
       "      <td>131.06</td>\n",
       "      <td>70.36</td>\n",
       "      <td>59.190000</td>\n",
       "      <td>1747.000000</td>\n",
       "      <td>Covaxin, Oxford/AstraZeneca, Sputnik V</td>\n",
       "      <td>Government of India</td>\n",
       "      <td>https://dashboard.cowin.gov.in/</td>\n",
       "    </tr>\n",
       "    <tr>\n",
       "      <th>35807</th>\n",
       "      <td>India</td>\n",
       "      <td>IND</td>\n",
       "      <td>2022-03-26</td>\n",
       "      <td>1.830285e+09</td>\n",
       "      <td>982687842.0</td>\n",
       "      <td>8.263607e+08</td>\n",
       "      <td>4.019460e+06</td>\n",
       "      <td>2.830351e+06</td>\n",
       "      <td>131.35</td>\n",
       "      <td>70.52</td>\n",
       "      <td>59.300000</td>\n",
       "      <td>2031.000000</td>\n",
       "      <td>Covaxin, Oxford/AstraZeneca, Sputnik V</td>\n",
       "      <td>Government of India</td>\n",
       "      <td>https://dashboard.cowin.gov.in/</td>\n",
       "    </tr>\n",
       "    <tr>\n",
       "      <th>35808</th>\n",
       "      <td>India</td>\n",
       "      <td>IND</td>\n",
       "      <td>2022-03-27</td>\n",
       "      <td>1.831348e+09</td>\n",
       "      <td>983190780.0</td>\n",
       "      <td>8.268846e+08</td>\n",
       "      <td>1.062451e+06</td>\n",
       "      <td>2.851859e+06</td>\n",
       "      <td>131.43</td>\n",
       "      <td>70.56</td>\n",
       "      <td>59.340000</td>\n",
       "      <td>2047.000000</td>\n",
       "      <td>Covaxin, Oxford/AstraZeneca, Sputnik V</td>\n",
       "      <td>Government of India</td>\n",
       "      <td>https://dashboard.cowin.gov.in/</td>\n",
       "    </tr>\n",
       "    <tr>\n",
       "      <th>35809</th>\n",
       "      <td>India</td>\n",
       "      <td>IND</td>\n",
       "      <td>2022-03-28</td>\n",
       "      <td>1.833040e+09</td>\n",
       "      <td>984051283.0</td>\n",
       "      <td>8.276109e+08</td>\n",
       "      <td>1.692273e+06</td>\n",
       "      <td>2.736644e+06</td>\n",
       "      <td>131.55</td>\n",
       "      <td>70.62</td>\n",
       "      <td>59.390000</td>\n",
       "      <td>1964.000000</td>\n",
       "      <td>Covaxin, Oxford/AstraZeneca, Sputnik V</td>\n",
       "      <td>Government of India</td>\n",
       "      <td>https://dashboard.cowin.gov.in/</td>\n",
       "    </tr>\n",
       "    <tr>\n",
       "      <th>35810</th>\n",
       "      <td>India</td>\n",
       "      <td>IND</td>\n",
       "      <td>2022-03-29</td>\n",
       "      <td>1.834501e+09</td>\n",
       "      <td>984838143.0</td>\n",
       "      <td>8.282295e+08</td>\n",
       "      <td>1.460643e+06</td>\n",
       "      <td>2.580123e+06</td>\n",
       "      <td>131.66</td>\n",
       "      <td>70.68</td>\n",
       "      <td>59.440000</td>\n",
       "      <td>1852.000000</td>\n",
       "      <td>Covaxin, Oxford/AstraZeneca, Sputnik V</td>\n",
       "      <td>Government of India</td>\n",
       "      <td>https://dashboard.cowin.gov.in/</td>\n",
       "    </tr>\n",
       "  </tbody>\n",
       "</table>\n",
       "<p>439 rows × 15 columns</p>\n",
       "</div>"
      ],
      "text/plain": [
       "      country iso_code        date  total_vaccinations  people_vaccinated  \\\n",
       "35372   India      IND  2021-01-15        0.000000e+00                0.0   \n",
       "35373   India      IND  2021-01-16        1.911810e+05           191181.0   \n",
       "35374   India      IND  2021-01-17        2.243010e+05           224301.0   \n",
       "35375   India      IND  2021-01-18        4.540490e+05           454049.0   \n",
       "35376   India      IND  2021-01-19        6.748350e+05           674835.0   \n",
       "...       ...      ...         ...                 ...                ...   \n",
       "35806   India      IND  2022-03-25        1.826266e+09        980435665.0   \n",
       "35807   India      IND  2022-03-26        1.830285e+09        982687842.0   \n",
       "35808   India      IND  2022-03-27        1.831348e+09        983190780.0   \n",
       "35809   India      IND  2022-03-28        1.833040e+09        984051283.0   \n",
       "35810   India      IND  2022-03-29        1.834501e+09        984838143.0   \n",
       "\n",
       "       people_fully_vaccinated  daily_vaccinations_raw  daily_vaccinations  \\\n",
       "35372             1.413830e+07            2.705996e+05        1.313055e+05   \n",
       "35373             1.413830e+07            1.911810e+05        1.911810e+05   \n",
       "35374             1.413830e+07            3.312000e+04        1.121500e+05   \n",
       "35375             1.413830e+07            2.297480e+05        1.513500e+05   \n",
       "35376             1.413830e+07            2.207860e+05        1.687090e+05   \n",
       "...                        ...                     ...                 ...   \n",
       "35806             8.247646e+08            1.997100e+06        2.433734e+06   \n",
       "35807             8.263607e+08            4.019460e+06        2.830351e+06   \n",
       "35808             8.268846e+08            1.062451e+06        2.851859e+06   \n",
       "35809             8.276109e+08            1.692273e+06        2.736644e+06   \n",
       "35810             8.282295e+08            1.460643e+06        2.580123e+06   \n",
       "\n",
       "       total_vaccinations_per_hundred  people_vaccinated_per_hundred  \\\n",
       "35372                            0.00                           0.00   \n",
       "35373                            0.01                           0.01   \n",
       "35374                            0.02                           0.02   \n",
       "35375                            0.03                           0.03   \n",
       "35376                            0.05                           0.05   \n",
       "...                               ...                            ...   \n",
       "35806                          131.06                          70.36   \n",
       "35807                          131.35                          70.52   \n",
       "35808                          131.43                          70.56   \n",
       "35809                          131.55                          70.62   \n",
       "35810                          131.66                          70.68   \n",
       "\n",
       "       people_fully_vaccinated_per_hundred  daily_vaccinations_per_million  \\\n",
       "35372                            35.523243                     3257.049157   \n",
       "35373                            35.523243                      137.000000   \n",
       "35374                            35.523243                       80.000000   \n",
       "35375                            35.523243                      109.000000   \n",
       "35376                            35.523243                      121.000000   \n",
       "...                                    ...                             ...   \n",
       "35806                            59.190000                     1747.000000   \n",
       "35807                            59.300000                     2031.000000   \n",
       "35808                            59.340000                     2047.000000   \n",
       "35809                            59.390000                     1964.000000   \n",
       "35810                            59.440000                     1852.000000   \n",
       "\n",
       "                                     vaccines          source_name  \\\n",
       "35372  Covaxin, Oxford/AstraZeneca, Sputnik V  Government of India   \n",
       "35373  Covaxin, Oxford/AstraZeneca, Sputnik V  Government of India   \n",
       "35374  Covaxin, Oxford/AstraZeneca, Sputnik V  Government of India   \n",
       "35375  Covaxin, Oxford/AstraZeneca, Sputnik V  Government of India   \n",
       "35376  Covaxin, Oxford/AstraZeneca, Sputnik V  Government of India   \n",
       "...                                       ...                  ...   \n",
       "35806  Covaxin, Oxford/AstraZeneca, Sputnik V  Government of India   \n",
       "35807  Covaxin, Oxford/AstraZeneca, Sputnik V  Government of India   \n",
       "35808  Covaxin, Oxford/AstraZeneca, Sputnik V  Government of India   \n",
       "35809  Covaxin, Oxford/AstraZeneca, Sputnik V  Government of India   \n",
       "35810  Covaxin, Oxford/AstraZeneca, Sputnik V  Government of India   \n",
       "\n",
       "                        source_website  \n",
       "35372  https://dashboard.cowin.gov.in/  \n",
       "35373  https://dashboard.cowin.gov.in/  \n",
       "35374  https://dashboard.cowin.gov.in/  \n",
       "35375  https://dashboard.cowin.gov.in/  \n",
       "35376  https://dashboard.cowin.gov.in/  \n",
       "...                                ...  \n",
       "35806  https://dashboard.cowin.gov.in/  \n",
       "35807  https://dashboard.cowin.gov.in/  \n",
       "35808  https://dashboard.cowin.gov.in/  \n",
       "35809  https://dashboard.cowin.gov.in/  \n",
       "35810  https://dashboard.cowin.gov.in/  \n",
       "\n",
       "[439 rows x 15 columns]"
      ]
     },
     "execution_count": 69,
     "metadata": {},
     "output_type": "execute_result"
    }
   ],
   "source": [
    "df_ind"
   ]
  },
  {
   "cell_type": "code",
   "execution_count": 87,
   "id": "fdfe11e1",
   "metadata": {},
   "outputs": [
    {
     "name": "stdout",
     "output_type": "stream",
     "text": [
      "      country iso_code        date  total_vaccinations\n",
      "35372   India      IND  2021-01-15                 0.0\n",
      "35373   India      IND  2021-01-16            191181.0\n",
      "35374   India      IND  2021-01-17            224301.0\n",
      "35375   India      IND  2021-01-18            454049.0\n",
      "35376   India      IND  2021-01-19            674835.0\n",
      "35377   India      IND  2021-01-20            806484.0\n",
      "35378   India      IND  2021-01-21           1043534.0\n",
      "35379   India      IND  2021-01-22           1390592.0\n",
      "35380   India      IND  2021-01-23           1582201.0\n",
      "35381   India      IND  2021-01-24           1615504.0\n",
      "35382   India      IND  2021-01-25           2023809.0\n",
      "35383   India      IND  2021-01-26           2029480.0\n",
      "35384   India      IND  2021-01-27           2355979.0\n",
      "35385   India      IND  2021-01-28           2928053.0\n",
      "35386   India      IND  2021-01-29           3500027.0\n",
      "35387   India      IND  2021-01-30           3744334.0\n",
      "35388   India      IND  2021-01-31           3758843.0\n"
     ]
    },
    {
     "data": {
      "text/plain": [
       "28323206"
      ]
     },
     "execution_count": 87,
     "metadata": {},
     "output_type": "execute_result"
    }
   ],
   "source": [
    "print(df_ind.iloc[0:17,0:4])\n",
    "int(df_ind.iloc[0:17,3:4].sum()) ## total vaccinations in jan"
   ]
  },
  {
   "cell_type": "code",
   "execution_count": 81,
   "id": "11917877",
   "metadata": {},
   "outputs": [
    {
     "name": "stdout",
     "output_type": "stream",
     "text": [
      "      country iso_code        date  total_vaccinations\n",
      "35389   India      IND  2021-02-01        3.950156e+06\n",
      "35390   India      IND  2021-02-02        4.138918e+06\n",
      "35391   India      IND  2021-02-03        4.449552e+06\n",
      "35392   India      IND  2021-02-04        4.959445e+06\n",
      "35393   India      IND  2021-02-05        5.416849e+06\n",
      "35394   India      IND  2021-02-06        5.775322e+06\n",
      "35395   India      IND  2021-02-07        5.812362e+06\n",
      "35396   India      IND  2021-02-08        6.259008e+06\n",
      "35397   India      IND  2021-02-09        6.611561e+06\n",
      "35398   India      IND  2021-02-10        7.017114e+06\n",
      "35399   India      IND  2021-02-11        7.505010e+06\n",
      "35400   India      IND  2021-02-12        7.967647e+06\n",
      "35401   India      IND  2021-02-13        8.052454e+06\n",
      "35402   India      IND  2021-02-14        4.592964e+07\n",
      "35403   India      IND  2021-02-15        8.516771e+06\n",
      "35404   India      IND  2021-02-16        8.857341e+06\n",
      "35405   India      IND  2021-02-17        9.186757e+06\n",
      "35406   India      IND  2021-02-18        9.846523e+06\n",
      "35407   India      IND  2021-02-19        1.044994e+07\n",
      "35408   India      IND  2021-02-20        1.083832e+07\n",
      "35409   India      IND  2021-02-21        1.108517e+07\n",
      "35410   India      IND  2021-02-22        1.142409e+07\n",
      "35411   India      IND  2021-02-23        1.190739e+07\n",
      "35412   India      IND  2021-02-24        1.236663e+07\n",
      "35413   India      IND  2021-02-25        1.306705e+07\n",
      "35414   India      IND  2021-02-26        1.375694e+07\n",
      "35415   India      IND  2021-02-27        1.424255e+07\n",
      "35416   India      IND  2021-02-28        1.430127e+07\n"
     ]
    },
    {
     "data": {
      "text/plain": [
       "283691791"
      ]
     },
     "execution_count": 81,
     "metadata": {},
     "output_type": "execute_result"
    }
   ],
   "source": [
    "print(df_ind.iloc[17:45,0:4])\n",
    "int(df_ind.iloc[17:45,3:4].sum()) ## total vaccinations in feb"
   ]
  },
  {
   "cell_type": "code",
   "execution_count": 88,
   "id": "44775506",
   "metadata": {},
   "outputs": [
    {
     "name": "stdout",
     "output_type": "stream",
     "text": [
      "      country iso_code        date  total_vaccinations\n",
      "35372   India      IND  2021-01-15        0.000000e+00\n",
      "35373   India      IND  2021-01-16        1.911810e+05\n",
      "35374   India      IND  2021-01-17        2.243010e+05\n",
      "35375   India      IND  2021-01-18        4.540490e+05\n",
      "35376   India      IND  2021-01-19        6.748350e+05\n",
      "...       ...      ...         ...                 ...\n",
      "35718   India      IND  2021-12-27        1.418447e+09\n",
      "35719   India      IND  2021-12-28        1.426070e+09\n",
      "35720   India      IND  2021-12-29        1.435196e+09\n",
      "35721   India      IND  2021-12-30        1.438717e+09\n",
      "35722   India      IND  2021-12-31        1.448865e+09\n",
      "\n",
      "[351 rows x 4 columns]\n"
     ]
    },
    {
     "data": {
      "text/plain": [
       "174623772870"
      ]
     },
     "execution_count": 88,
     "metadata": {},
     "output_type": "execute_result"
    }
   ],
   "source": [
    "print(df_ind.iloc[0:351,0:4])\n",
    "int(df_ind.iloc[0:351,3:4].sum()) ## total vaccinations in 2021"
   ]
  },
  {
   "cell_type": "code",
   "execution_count": 28,
   "id": "4953c2fb",
   "metadata": {},
   "outputs": [],
   "source": [
    "data = df_ind.values"
   ]
  },
  {
   "cell_type": "code",
   "execution_count": 29,
   "id": "1eb55435",
   "metadata": {},
   "outputs": [
    {
     "data": {
      "text/plain": [
       "array([['India', 'IND', '2021-01-15', ...,\n",
       "        'Covaxin, Oxford/AstraZeneca, Sputnik V', 'Government of India',\n",
       "        'https://dashboard.cowin.gov.in/'],\n",
       "       ['India', 'IND', '2021-01-16', ...,\n",
       "        'Covaxin, Oxford/AstraZeneca, Sputnik V', 'Government of India',\n",
       "        'https://dashboard.cowin.gov.in/'],\n",
       "       ['India', 'IND', '2021-01-17', ...,\n",
       "        'Covaxin, Oxford/AstraZeneca, Sputnik V', 'Government of India',\n",
       "        'https://dashboard.cowin.gov.in/'],\n",
       "       ...,\n",
       "       ['India', 'IND', '2022-03-27', ...,\n",
       "        'Covaxin, Oxford/AstraZeneca, Sputnik V', 'Government of India',\n",
       "        'https://dashboard.cowin.gov.in/'],\n",
       "       ['India', 'IND', '2022-03-28', ...,\n",
       "        'Covaxin, Oxford/AstraZeneca, Sputnik V', 'Government of India',\n",
       "        'https://dashboard.cowin.gov.in/'],\n",
       "       ['India', 'IND', '2022-03-29', ...,\n",
       "        'Covaxin, Oxford/AstraZeneca, Sputnik V', 'Government of India',\n",
       "        'https://dashboard.cowin.gov.in/']], dtype=object)"
      ]
     },
     "execution_count": 29,
     "metadata": {},
     "output_type": "execute_result"
    }
   ],
   "source": [
    "data"
   ]
  },
  {
   "cell_type": "code",
   "execution_count": 41,
   "id": "b548292d",
   "metadata": {},
   "outputs": [],
   "source": [
    "def total_():\n",
    "    total=0\n",
    "    date=input(\"Enter the date(dd):\")\n",
    "    month=input(\"Enter the month(mm):\")\n",
    "    year=input(\"Enter the year(yyyy):\")\n",
    "    c=int(input(\"Enter the index of the column:\"))\n",
    "    for i in data:\n",
    "        y=i[2]\n",
    "        if(year in y[0:4]):\n",
    "            if(month in y[5:7]):\n",
    "                if (date in y[8:-1]):\n",
    "                    total+= i[c]\n",
    "    print(\"total :\" ,total)   \n",
    "           "
   ]
  },
  {
   "cell_type": "markdown",
   "id": "6022e697",
   "metadata": {},
   "source": [
    "## No.of  total vaccinations in january 2021"
   ]
  },
  {
   "cell_type": "code",
   "execution_count": 31,
   "id": "b769f1a7",
   "metadata": {},
   "outputs": [
    {
     "name": "stdout",
     "output_type": "stream",
     "text": [
      "Enter the date(dd):\n",
      "Enter the month(mm):01\n",
      "Enter the year(yyyy):2021\n",
      "Enter the index of the column:3\n",
      "total : 28323206.0\n"
     ]
    }
   ],
   "source": [
    "total_()"
   ]
  },
  {
   "cell_type": "markdown",
   "id": "a1cdd00c",
   "metadata": {},
   "source": [
    "## No.of total vaccinations in February 2021"
   ]
  },
  {
   "cell_type": "code",
   "execution_count": 38,
   "id": "c81106b1",
   "metadata": {},
   "outputs": [
    {
     "name": "stdout",
     "output_type": "stream",
     "text": [
      "Enter the date(dd):\n",
      "Enter the month(mm):02\n",
      "Enter the year(yyyy):2021\n",
      "Enter the index of the column:3\n",
      "total : 283691791.6387277\n"
     ]
    }
   ],
   "source": [
    "total_()"
   ]
  },
  {
   "cell_type": "markdown",
   "id": "bc673d88",
   "metadata": {},
   "source": [
    "## total vaccinations in 2021"
   ]
  },
  {
   "cell_type": "code",
   "execution_count": 42,
   "id": "d7f80bc5",
   "metadata": {},
   "outputs": [
    {
     "name": "stdout",
     "output_type": "stream",
     "text": [
      "Enter the date(dd):\n",
      "Enter the month(mm):\n",
      "Enter the year(yyyy):2021\n",
      "Enter the index of the column:3\n",
      "total : 174623772870.026\n"
     ]
    }
   ],
   "source": [
    "total_()"
   ]
  },
  {
   "cell_type": "markdown",
   "id": "d7e5ae54",
   "metadata": {},
   "source": [
    "## Monthly Number of  total vaccinations from Jan to Dec 2021"
   ]
  },
  {
   "cell_type": "code",
   "execution_count": 89,
   "id": "06ee78ed",
   "metadata": {},
   "outputs": [
    {
     "name": "stdout",
     "output_type": "stream",
     "text": [
      "total vaccinations in 1 month of 2021: 28323206\n",
      "total vaccinations in 2 month of 2021: 283691792\n",
      "total vaccinations in 3 month of 2021: 1166006861\n",
      "total vaccinations in 4 month of 2021: 3175919045\n",
      "total vaccinations in 5 month of 2021: 5478474946\n",
      "total vaccinations in 6 month of 2021: 7930055407\n",
      "total vaccinations in 7 month of 2021: 11267486872\n",
      "total vaccinations in 8 month of 2021: 15731255745\n",
      "total vaccinations in 9 month of 2021: 23162890858\n",
      "total vaccinations in 10 month of 2021: 30299754484\n",
      "total vaccinations in 11 month of 2021: 34164994865\n",
      "total vaccinations in 12 month of 2021: 41934918790\n"
     ]
    }
   ],
   "source": [
    "for i in range(1,13,1):\n",
    "    total=0\n",
    "    for x in data:\n",
    "        y=x[2]\n",
    "        if('2021' in y[0:4]):\n",
    "            if(i == int(y[5:7])):\n",
    "                total+= x[3]\n",
    "    print(\"total vaccinations in\", i,\"month of 2021:\" ,round(total))"
   ]
  },
  {
   "cell_type": "code",
   "execution_count": 86,
   "id": "85a2c5c8",
   "metadata": {},
   "outputs": [
    {
     "data": {
      "text/plain": [
       "174623772871"
      ]
     },
     "execution_count": 86,
     "metadata": {},
     "output_type": "execute_result"
    }
   ],
   "source": [
    "28323206+283691792+1166006861+3175919045+5478474946+7930055407+11267486872+15731255745+23162890858+30299754484+34164994865+41934918790"
   ]
  },
  {
   "cell_type": "code",
   "execution_count": 23,
   "id": "a7766aed",
   "metadata": {},
   "outputs": [
    {
     "name": "stdout",
     "output_type": "stream",
     "text": [
      "5478474945.638727\n"
     ]
    }
   ],
   "source": [
    "total_vaccinations=0\n",
    "for i in data:\n",
    "    if(i[0] == 'India'):\n",
    "        y=i[2]\n",
    "        if(y[0:7]=='2021-05'):\n",
    "            total_vaccinations += i[3]\n",
    "print(total_vaccinations)"
   ]
  },
  {
   "cell_type": "code",
   "execution_count": 24,
   "id": "75994e31",
   "metadata": {},
   "outputs": [],
   "source": [
    "def total_():\n",
    "    total=0\n",
    "    country=input(\"Enter the name of the country:\")\n",
    "    date=input(\"Enter the date(yyyy-mm-dd):\")\n",
    "    c=int(input(\"Enter the index of the column:\"))\n",
    "    for i in data:\n",
    "        if(i[0].lower() == country.lower()):\n",
    "            y=i[2]\n",
    "            if(date in y):\n",
    "                total+= i[c]\n",
    "    print(\"total:\" ,total)"
   ]
  },
  {
   "cell_type": "markdown",
   "id": "6ce8ef0f",
   "metadata": {},
   "source": [
    "## Total of  total vaccinations in India in may 2021"
   ]
  },
  {
   "cell_type": "code",
   "execution_count": 31,
   "id": "c9f8a76b",
   "metadata": {},
   "outputs": [
    {
     "name": "stdout",
     "output_type": "stream",
     "text": [
      "Enter the name of the country:india\n",
      "Enter the date(yyyy-mm-dd):2021-05\n",
      "Enter the index of the column:3\n",
      "total: 5478474945.638727\n"
     ]
    }
   ],
   "source": [
    "total_()"
   ]
  },
  {
   "cell_type": "markdown",
   "id": "4eaafcdf",
   "metadata": {},
   "source": [
    "## Total of fully vaccinated people in India in may 2021"
   ]
  },
  {
   "cell_type": "code",
   "execution_count": 26,
   "id": "ed90be16",
   "metadata": {},
   "outputs": [
    {
     "name": "stdout",
     "output_type": "stream",
     "text": [
      "Enter the name of the country:india\n",
      "Enter the date(yyyy-mm-dd):2021-05\n",
      "Enter the index of the column:5\n",
      "total: 1148709292.8481522\n"
     ]
    }
   ],
   "source": [
    "total_()"
   ]
  },
  {
   "cell_type": "markdown",
   "id": "69a17b8e",
   "metadata": {},
   "source": [
    "##  Total of vaccinated people in Albania on 2022-01-12"
   ]
  },
  {
   "cell_type": "code",
   "execution_count": 27,
   "id": "6381c6c3",
   "metadata": {},
   "outputs": [
    {
     "name": "stdout",
     "output_type": "stream",
     "text": [
      "Enter the name of the country:albania\n",
      "Enter the date(yyyy-mm-dd):2022-01-12\n",
      "Enter the index of the column:4\n",
      "total: 17705077.78979997\n"
     ]
    }
   ],
   "source": [
    "total_()"
   ]
  },
  {
   "cell_type": "code",
   "execution_count": null,
   "id": "d7b59785",
   "metadata": {},
   "outputs": [],
   "source": []
  }
 ],
 "metadata": {
  "kernelspec": {
   "display_name": "Python 3 (ipykernel)",
   "language": "python",
   "name": "python3"
  },
  "language_info": {
   "codemirror_mode": {
    "name": "ipython",
    "version": 3
   },
   "file_extension": ".py",
   "mimetype": "text/x-python",
   "name": "python",
   "nbconvert_exporter": "python",
   "pygments_lexer": "ipython3",
   "version": "3.9.13"
  }
 },
 "nbformat": 4,
 "nbformat_minor": 5
}
