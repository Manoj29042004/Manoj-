{
 "cells": [
  {
   "cell_type": "markdown",
   "id": "6b44cee9",
   "metadata": {},
   "source": [
    "## Program to write data on a text file.(write mode)"
   ]
  },
  {
   "cell_type": "code",
   "execution_count": 13,
   "id": "714e7b3e",
   "metadata": {},
   "outputs": [
    {
     "name": "stdout",
     "output_type": "stream",
     "text": [
      "Enter the data to be written on file:\"Hi, this is Manoj(^_^)\".\n"
     ]
    }
   ],
   "source": [
    "data=input(\"Enter the data to be written on file:\")\n",
    "fd=open(\"file.txt\",\"w\")\n",
    "fd.write(data)\n",
    "fd.close()\n"
   ]
  },
  {
   "cell_type": "markdown",
   "id": "3df7502e",
   "metadata": {},
   "source": [
    "## Program to add data on a text file.(append mode)"
   ]
  },
  {
   "cell_type": "code",
   "execution_count": 14,
   "id": "ba316a2e",
   "metadata": {},
   "outputs": [
    {
     "name": "stdout",
     "output_type": "stream",
     "text": [
      "Enter the data to be written on file:I am from Vijayawada.\n"
     ]
    }
   ],
   "source": [
    "data=input(\"Enter the data to be written on file:\")\n",
    "fd=open(\"file.txt\",\"a\")\n",
    "fd.write('\\n')\n",
    "fd.write(data)\n",
    "fd.close()\n"
   ]
  },
  {
   "cell_type": "code",
   "execution_count": null,
   "id": "2c2e3c41",
   "metadata": {},
   "outputs": [],
   "source": []
  }
 ],
 "metadata": {
  "kernelspec": {
   "display_name": "Python 3 (ipykernel)",
   "language": "python",
   "name": "python3"
  },
  "language_info": {
   "codemirror_mode": {
    "name": "ipython",
    "version": 3
   },
   "file_extension": ".py",
   "mimetype": "text/x-python",
   "name": "python",
   "nbconvert_exporter": "python",
   "pygments_lexer": "ipython3",
   "version": "3.9.13"
  }
 },
 "nbformat": 4,
 "nbformat_minor": 5
}
